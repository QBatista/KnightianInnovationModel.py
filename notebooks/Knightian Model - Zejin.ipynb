{
 "cells": [
  {
   "cell_type": "code",
   "execution_count": 1,
   "metadata": {},
   "outputs": [],
   "source": [
    "import numpy as np\n",
    "import matplotlib.pyplot as plt\n",
    "from math import log\n",
    "from interpolation import interp\n",
    "from numba import njit, prange, cfunc\n",
    "import matplotlib.pyplot as plt"
   ]
  },
  {
   "cell_type": "code",
   "execution_count": 2,
   "metadata": {},
   "outputs": [],
   "source": [
    "%matplotlib inline"
   ]
  },
  {
   "cell_type": "code",
   "execution_count": 3,
   "metadata": {},
   "outputs": [],
   "source": [
    "# calibration\n",
    "α=1\n",
    "A=1.5\n",
    "σ1=0.3\n",
    "σ2=0.3\n",
    "γ=0.95\n",
    "μ=0.5\n",
    "π=1.\n",
    "β=0.9\n",
    "ν=2\n",
    "δ_range=np.array([0.93, 1.])\n",
    "Pδ=np.array([0.5, 0.5])\n",
    "ζ_range=np.array([1., 1.5])\n",
    "Pζ=np.array([[0.5, 0.5], [0.5, 0.5]])\n",
    "\n",
    "ω_min=1e-3\n",
    "ω_max=100\n",
    "n_ω=100\n",
    "\n",
    "b_min=0.\n",
    "b_max=0.\n",
    "n_b=100\n",
    "\n",
    "c_min=1e-3\n",
    "c_max=10.\n",
    "c_int=5.\n",
    "n_c=100\n",
    "\n",
    "n_ι=2"
   ]
  },
  {
   "cell_type": "code",
   "execution_count": 4,
   "metadata": {},
   "outputs": [],
   "source": [
    "para = [α, A, σ1, σ2, γ, μ, π, β, ν, δ_range, Pδ, ζ_range, Pζ]\n",
    "grids_para = [ω_min, ω_max, n_ω, b_min, b_max, n_b, c_min, c_max, n_c, n_ι]"
   ]
  },
  {
   "cell_type": "code",
   "execution_count": 5,
   "metadata": {},
   "outputs": [],
   "source": [
    "# initial X\n",
    "R=1.03\n",
    "\n",
    "K=5\n",
    "L=1\n",
    "M=0.5"
   ]
  },
  {
   "cell_type": "code",
   "execution_count": 6,
   "metadata": {},
   "outputs": [],
   "source": [
    "# R, K, L, M are arguments, not parameters\n",
    "def function_factory(para, grids_para):\n",
    "    \n",
    "    α, A, σ1, σ2, γ, μ, π, β, ν, δ_range, Pδ, ζ_range, Pζ = para\n",
    "    n_ζ = len(ζ_range)\n",
    "    n_δ = len(δ_range)\n",
    "    \n",
    "    ω_min, ω_max, n_ω, b_min, b_max, n_b, c_min, c_max, n_c, n_ι = grids_para\n",
    "    \n",
    "    ω_range = np.linspace(ω_min, ω_max, n_ω)\n",
    "    b_range = np.linspace(b_min, b_max, n_b)\n",
    "    c_range = np.empty(n_c)\n",
    "    c_range[:n_c//2] = np.linspace(c_min, c_int, n_c//2)\n",
    "    c_range[n_c//2:] = np.linspace(c_int+(c_int-c_min)*2/n_c, c_max, n_c//2)\n",
    "    ι_range = np.array([0, 1], int)\n",
    "\n",
    "    # rental, wage, and price of intermediate goods\n",
    "    def F_derivatives(K, L, M):\n",
    "        \"\"\"\n",
    "        F(k, l, m) = A * k^σ1 * l^σ2 * m^(1-σ1-σ2)\n",
    "        \n",
    "        F_k (r) = σ1 * A * k^(σ1-1) * l^σ2 * m^(1-σ1-σ2)\n",
    "        F_l (w) = σ2 * A * k^σ1 * l^(σ2-1) * m^(1-σ1-σ2)\n",
    "        F_m (pM) = (1-σ1-σ2) * A * k^σ1 * l^σ2 * m^(-σ1-σ2)\n",
    "        \"\"\"\n",
    "        # the common part\n",
    "        Fklm = A * K**(σ1-1) * L**(σ2-1) * M**(-σ1-σ2)\n",
    "        \n",
    "        r = σ1 * Fklm * L * M\n",
    "        w = σ2 * Fklm * K * M\n",
    "        pM = (1-σ1-σ2) * Fklm * K * L\n",
    "        \n",
    "        return r, w, pM\n",
    "    \n",
    "    @njit(parallel=True)\n",
    "    def utility(c):\n",
    "        \"\"\"\n",
    "        CRRA utility.\n",
    "        \"\"\"\n",
    "        \n",
    "        utils = c ** (1-ν) / (1-ν)\n",
    "        \n",
    "        return utils\n",
    "    \n",
    "    def invention_value(R, pM):\n",
    "        \"\"\"\n",
    "        The present value of a brand new intermediate goods invention.\n",
    "        \"\"\"\n",
    "        \n",
    "        j_bar = int(log((R / pM), γ))\n",
    "        \n",
    "        Γ = 0\n",
    "        for j in range(j_bar+1):\n",
    "            Γ += (γ**j * pM / R - 1) * R ** (-j)\n",
    "            \n",
    "        return Γ\n",
    "    \n",
    "    def initialize():\n",
    "        \n",
    "        # the first dimension is for bold or not\n",
    "        # second is for work or not\n",
    "        VWI = np.zeros((2, 2, n_ω, n_ζ, n_ι))\n",
    "        # the last dimension is for optimal (c, k_next, b_next)\n",
    "        DWI = np.zeros((2, 2, n_ω, n_ζ, n_ι, 3))\n",
    "        D_bar = np.empty((2, n_ω, n_ζ))\n",
    "        \n",
    "        # ex ante value function\n",
    "        V = np.zeros((2, n_ω, n_ζ))\n",
    "        \n",
    "        # optimal value function conditional on having invention opportunity\n",
    "        Vbar = np.zeros((2, n_ω, n_ζ, 2))\n",
    "        \n",
    "        return VWI, DWI, D_bar, V, Vbar\n",
    "    \n",
    "    def solve_model(tol=1e-5, verbose=True):\n",
    "        \n",
    "        r, w, pM = F_derivatives(K, L, M)\n",
    "        Γ_star = invention_value(R, pM)\n",
    "        VWI, DWI, D_bar, V, Vbar = initialize()\n",
    "        \n",
    "        dist = np.inf\n",
    "        i = 0\n",
    "        while dist > tol:\n",
    "            Vold = np.copy(V)\n",
    "            for WI in prange(2):\n",
    "                update_VWI(0, VWI, V, DWI, w, r, R, Γ_star)\n",
    "                update_VWI(1, VWI, V, DWI, w, r, R, Γ_star)\n",
    "            \n",
    "            # optimization over decision of working of inventing\n",
    "            D_bar[:, :, :] = VWI[:, 0, :, :, 1] < VWI[:, 1, :, :, 1]\n",
    "            Vbar[:, :, :, 1] = np.max(VWI[:, :, :, :, 1], 1)\n",
    "            Vbar[:, :, :, 0] = VWI[:, 0, :, :, 0]\n",
    "            # ex ante value funtion\n",
    "            # before the invention shock\n",
    "            V = μ * Vbar[:, :, :, 1] + (1 - μ) * VWI[:, 0, :, :, 0]\n",
    "            \n",
    "            dist = np.max(np.abs(V-Vold))\n",
    "            \n",
    "            i += 1\n",
    "            if i > 500:\n",
    "                break\n",
    "            \n",
    "            if verbose:\n",
    "                print(i, dist)\n",
    "                \n",
    "        return V, Vbar, DWI, D_bar\n",
    "    \n",
    "    @njit(parallel=False)\n",
    "    def update_VWI(WI, VWI, V, DWI, w, r, R, Γ_star):\n",
    "        \"\"\"\n",
    "        update VW if WI == 0\n",
    "        update VI if WI == 1\n",
    "        \"\"\"\n",
    "        for idx_ω in prange(n_ω):\n",
    "            ω = ω_range[idx_ω]\n",
    "            for idx_ζ in prange(n_ζ):\n",
    "                ζ = ζ_range[idx_ζ]\n",
    "                cashonhand = ζ * w + ω if WI == 0 else ω\n",
    "                for ι in prange(n_ι):\n",
    "                    # agent type: bold or cautious\n",
    "                    for bold in range(2):\n",
    "                        \n",
    "                        # optimization over ct, kt+1, bt+1\n",
    "                        val, c, k_next, b_next = opt_VWI(WI, V, w, r, R, Γ_star, bold, cashonhand, idx_ζ)\n",
    "                        VWI[bold, WI, idx_ω, idx_ζ, ι] = val\n",
    "                        DWI[bold, WI, idx_ω, idx_ζ, ι, :] = c, k_next, b_next\n",
    "    \n",
    "    @njit(parallel=False)\n",
    "    def opt_VWI(WI, V, w, r, R, Γ_star, bold, cashonhand, idx_ζ):\n",
    "        \"\"\"\n",
    "        optimization for worker if WI == 0\n",
    "        optimization for inventor if WI == 1\n",
    "        \"\"\"\n",
    "        val_opt = -np.inf\n",
    "        c_opt = c_range[0]\n",
    "        b_next_opt = b_range[0]\n",
    "        k_next_opt = cashonhand - c_opt - b_next_opt\n",
    "\n",
    "        # search for optimal consumption\n",
    "        for idx_c in prange(n_c):\n",
    "            c = c_range[idx_c]\n",
    "            # utility of consumption\n",
    "            utils = utility(c)\n",
    "            # search for optimal borrowing\n",
    "            for idx_b in prange(n_b):\n",
    "                b_next = b_range[idx_b]\n",
    "                k_next = cashonhand - c - b_next\n",
    "                if k_next < 0.:\n",
    "                    break\n",
    "                val = utils\n",
    "                for idx_δ_next in prange(n_δ):\n",
    "                    δ_next = δ_range[idx_δ_next]\n",
    "                    ω_next = (1+r) * δ_next * k_next + R * b_next\n",
    "                    if WI == 0:\n",
    "                        for idx_ζ_next in prange(n_ζ):\n",
    "                            val += Pδ[idx_δ_next] * β * Pζ[idx_ζ, idx_ζ_next] * interp(ω_range, V[bold, :, idx_ζ_next], ω_next)\n",
    "                    elif WI == 1:\n",
    "                        for idx_ζ_next in prange(n_ζ):\n",
    "                            val += Pδ[idx_δ_next] * β * π * Pζ[idx_ζ, idx_ζ_next] * interp(ω_range, V[bold, :, idx_ζ_next], ω_next+Γ_star)\n",
    "                            val += Pδ[idx_δ_next] * β * (1-π) * Pζ[idx_ζ, idx_ζ_next] * interp(ω_range, V[bold, :, idx_ζ_next], ω_next)\n",
    "                \n",
    "                if val > val_opt:\n",
    "                    val_opt = val\n",
    "                    c_opt = c\n",
    "                    k_next_opt = k_next\n",
    "                    b_next_opt = b_next\n",
    "                    \n",
    "        return val_opt, c_opt, k_next_opt, b_next_opt                            \n",
    "\n",
    "    return solve_model, F_derivatives, invention_value, initialize, update_VWI, utility"
   ]
  },
  {
   "cell_type": "code",
   "execution_count": 7,
   "metadata": {},
   "outputs": [],
   "source": [
    "solve_model, F_derivatives, invention_value, initialize, update_VWI, utility = function_factory(para, grids_para)"
   ]
  },
  {
   "cell_type": "code",
   "execution_count": 8,
   "metadata": {},
   "outputs": [
    {
     "name": "stdout",
     "output_type": "stream",
     "text": [
      "0.11054052235042112 0.5527026117521057 1.4738736313389484\n"
     ]
    }
   ],
   "source": [
    "# rental, wage, and price of intermediate goods\n",
    "r, w, pM = F_derivatives(K, L, M)\n",
    "print(r, w, pM)"
   ]
  },
  {
   "cell_type": "code",
   "execution_count": 9,
   "metadata": {},
   "outputs": [
    {
     "data": {
      "text/plain": [
       "6"
      ]
     },
     "execution_count": 9,
     "metadata": {},
     "output_type": "execute_result"
    }
   ],
   "source": [
    "# effective vintage of intermediate good technology\n",
    "j_bar = int(log((R / pM), γ))\n",
    "j_bar"
   ]
  },
  {
   "cell_type": "code",
   "execution_count": 10,
   "metadata": {},
   "outputs": [
    {
     "data": {
      "text/plain": [
       "1.5451874192467956"
      ]
     },
     "execution_count": 10,
     "metadata": {},
     "output_type": "execute_result"
    }
   ],
   "source": [
    "# The present value of a brand new intermediate goods invention\n",
    "Γ_star = invention_value(R, pM)\n",
    "Γ_star"
   ]
  },
  {
   "cell_type": "code",
   "execution_count": 11,
   "metadata": {},
   "outputs": [],
   "source": [
    "V, Vbar, DWI, D_bar = solve_model(verbose=False)"
   ]
  },
  {
   "cell_type": "code",
   "execution_count": 12,
   "metadata": {},
   "outputs": [
    {
     "data": {
      "text/plain": [
       "<matplotlib.legend.Legend at 0x114789f28>"
      ]
     },
     "execution_count": 12,
     "metadata": {},
     "output_type": "execute_result"
    },
    {
     "data": {
      "image/png": "[encoded data removed]",
      "text/plain": [
       "<Figure size 432x288 with 1 Axes>"
      ]
     },
     "metadata": {},
     "output_type": "display_data"
    }
   ],
   "source": [
    "# value function given wealth and labor productivity\n",
    "ω_range = np.linspace(ω_min, ω_max, n_ω)\n",
    "\n",
    "for i in range(len(ζ_range)):\n",
    "    plt.plot(ω_range, V[0, :, i], label=f\"ζ={ζ_range[i]}\")\n",
    "\n",
    "plt.xlabel(\"ω\")\n",
    "plt.ylabel(\"V[ω, ζ]\")\n",
    "plt.legend()"
   ]
  },
  {
   "cell_type": "code",
   "execution_count": 13,
   "metadata": {
    "scrolled": false
   },
   "outputs": [
    {
     "data": {
      "image/png": "[encoded data removed]",
      "text/plain": [
       "<Figure size 432x288 with 1 Axes>"
      ]
     },
     "metadata": {},
     "output_type": "display_data"
    },
    {
     "data": {
      "image/png": "[encoded data removed]",
      "text/plain": [
       "<Figure size 432x288 with 1 Axes>"
      ]
     },
     "metadata": {},
     "output_type": "display_data"
    }
   ],
   "source": [
    "# value function given wealth, labor productivity, and invention chance\n",
    "for ι in range(2):\n",
    "    for i in range(len(ζ_range)):\n",
    "        plt.plot(ω_range, Vbar[0, :, i, ι], label=f\"ζ={ζ_range[i]}\")\n",
    "    \n",
    "    plt.xlabel(\"ω\")\n",
    "    plt.ylabel(r\"$\\bar{V}$[ω, ζ, \" + f\"{ι}]\")\n",
    "    plt.title(f\"ι={ι}\")\n",
    "    plt.legend()\n",
    "    plt.show()"
   ]
  },
  {
   "cell_type": "markdown",
   "metadata": {},
   "source": [
    "# Aggregates Calculation"
   ]
  },
  {
   "cell_type": "code",
   "execution_count": 14,
   "metadata": {},
   "outputs": [
    {
     "data": {
      "text/plain": [
       "<matplotlib.legend.Legend at 0x1142f76d8>"
      ]
     },
     "execution_count": 14,
     "metadata": {},
     "output_type": "execute_result"
    },
    {
     "data": {
      "image/png": "[encoded data removed]",
      "text/plain": [
       "<Figure size 432x288 with 1 Axes>"
      ]
     },
     "metadata": {},
     "output_type": "display_data"
    }
   ],
   "source": [
    "# k decision\n",
    "ω_range = np.linspace(ω_min, ω_max, n_ω)\n",
    "\n",
    "for i in range(len(ζ_range)):\n",
    "    plt.plot(ω_range, DWI[0, 0, :, i, 0, 1] / ω_range, label=f\"ζ={ζ_range[i]}\")\n",
    "\n",
    "plt.ylim([0., 1.5])\n",
    "plt.xlabel(\"ω\")\n",
    "plt.ylabel(\"ratio of k over ω\")\n",
    "plt.legend()"
   ]
  },
  {
   "cell_type": "markdown",
   "metadata": {},
   "source": [
    "##### for bold agents"
   ]
  },
  {
   "cell_type": "code",
   "execution_count": 15,
   "metadata": {},
   "outputs": [],
   "source": [
    "from scipy.stats import gaussian_kde\n",
    "import scipy.integrate as integrate"
   ]
  },
  {
   "cell_type": "code",
   "execution_count": 16,
   "metadata": {},
   "outputs": [],
   "source": [
    "@njit(parallel=True)\n",
    "def MC(popu, DWI, D_bar, seed=1234, maxiter=1000, tol=1e-5, verbose=True):\n",
    "    \"\"\"\n",
    "    Monte Carlo simulation.\n",
    "    \"\"\"\n",
    "    \n",
    "    N = popu.shape[0] // 2\n",
    "    \n",
    "    np.random.seed(seed)\n",
    "    \n",
    "    ι_draw_rvs = np.random.random((maxiter, 2*N))\n",
    "    δ_draw_rvs = np.random.random((maxiter, 2*N))\n",
    "    π_draw_rvs = np.random.random((maxiter, 2*N))\n",
    "    ζ_draw_rvs = np.random.random((maxiter, 2*N))\n",
    "    \n",
    "    for i in range(maxiter):\n",
    "        popu_old = np.copy(popu)\n",
    "        for j in prange(2*N):\n",
    "            ι = 0 if ι_draw_rvs[i, j] < 0.5 else 1\n",
    "\n",
    "            # update ω\n",
    "            ω = popu[j, 0]\n",
    "            idx_ζ = int(popu[j, 1])\n",
    "            ζ = ζ_range[idx_ζ]\n",
    "\n",
    "            if (ι == 1):\n",
    "                p_invest = interp(ω_range, D_bar[0, :, idx_ζ], ω)\n",
    "\n",
    "            if (ι == 0) or (p_invest < 0.5):\n",
    "                # bound k by ω_max\n",
    "                # otherwise it will explode because interp is using linear extrapolation\n",
    "                k = min(interp(ω_range, DWI[0, 0, :, idx_ζ, ι, 1], ω), ω_max)\n",
    "                b = interp(ω_range, DWI[0, 0, :, idx_ζ, ι, 2], ω)\n",
    "            else:\n",
    "                k = min(interp(ω_range, DWI[0, 1, :, idx_ζ, ι, 1], ω), ω_max)\n",
    "                b = interp(ω_range, DWI[0, 1, :, idx_ζ, ι, 2], ω)\n",
    "\n",
    "            idx_δ = 0 if δ_draw_rvs[i, j] < Pδ[0] else 1\n",
    "            δ = δ_range[idx_δ]\n",
    "\n",
    "            ωnext = (1 + r) * δ * k + R * b\n",
    "\n",
    "            if π_draw_rvs[i, j] < π:\n",
    "                ωnext += Γ_star\n",
    "\n",
    "            popu[j, 0] = ωnext\n",
    "\n",
    "            # update ζ\n",
    "            if ζ_draw_rvs[i, j] > Pζ[idx_ζ, idx_ζ]:\n",
    "                popu[j, 1] = 1 - idx_ζ"
   ]
  },
  {
   "cell_type": "code",
   "execution_count": 17,
   "metadata": {},
   "outputs": [],
   "source": [
    "# draw initial (ω, ζ) distribution\n",
    "# e.g. uniform distribution\n",
    "N = 10000\n",
    "\n",
    "popu = np.empty((2*N, 2))\n",
    "popu[:N, 0] = np.linspace(ω_min, ω_max, N)\n",
    "popu[:N, 1] = 0\n",
    "popu[N:, 0] = np.linspace(ω_min, ω_max, N)\n",
    "popu[N:, 1] = 1"
   ]
  },
  {
   "cell_type": "code",
   "execution_count": 18,
   "metadata": {},
   "outputs": [],
   "source": [
    "MC(popu, DWI, D_bar)"
   ]
  },
  {
   "cell_type": "code",
   "execution_count": 19,
   "metadata": {},
   "outputs": [],
   "source": [
    "pdf1 = gaussian_kde(popu[popu[:, 1] == 0, 0])\n",
    "pdf2 = gaussian_kde(popu[popu[:, 1] == 1, 0])"
   ]
  },
  {
   "cell_type": "code",
   "execution_count": 20,
   "metadata": {},
   "outputs": [
    {
     "data": {
      "image/png": "[encoded data removed]",
      "text/plain": [
       "<Figure size 432x288 with 1 Axes>"
      ]
     },
     "metadata": {},
     "output_type": "display_data"
    },
    {
     "data": {
      "image/png": "[encoded data removed]",
      "text/plain": [
       "<Figure size 432x288 with 1 Axes>"
      ]
     },
     "metadata": {},
     "output_type": "display_data"
    }
   ],
   "source": [
    "for i in range(2):\n",
    "    pdf = [pdf1, pdf2][i]\n",
    "    plt.hist(popu[popu[:, 1] == i, 0], bins=50, density=True, label=\"sample\")\n",
    "    plt.plot(np.linspace(0., 100., 100), pdf(np.linspace(0., 100., 100)), label=\"kernel density fit\")\n",
    "    plt.title(f\"stationary distribution P(ω, ζ={ζ_range[i]})\")\n",
    "    plt.xlabel(\"ω\")\n",
    "    plt.ylabel(f\"P(ω, ζ={ζ_range[i]})\")\n",
    "    plt.legend()\n",
    "    plt.show()"
   ]
  },
  {
   "cell_type": "markdown",
   "metadata": {},
   "source": [
    "#### Integration"
   ]
  },
  {
   "cell_type": "code",
   "execution_count": 21,
   "metadata": {},
   "outputs": [],
   "source": [
    "DK = DWI[:, :, :, :, :, 1]\n",
    "DB = DWI[:, :, :, :, :, 0]"
   ]
  },
  {
   "cell_type": "code",
   "execution_count": 22,
   "metadata": {},
   "outputs": [],
   "source": [
    "# worker\n",
    "def fW(ω, pdf, idx_ζ, DA):\n",
    "    \"\"\"\n",
    "    A = K, B\n",
    "    \"\"\"\n",
    "    A = interp(ω_range, DA[0, 0, :, idx_ζ, 0], ω)\n",
    "    density = pdf(ω)\n",
    "    return density * A"
   ]
  },
  {
   "cell_type": "code",
   "execution_count": 23,
   "metadata": {
    "scrolled": true
   },
   "outputs": [
    {
     "name": "stderr",
     "output_type": "stream",
     "text": [
      "/Users/zejinshi/anaconda3/lib/python3.6/site-packages/scipy/integrate/quadpack.py:385: IntegrationWarning: The occurrence of roundoff error is detected, which prevents \n",
      "  the requested tolerance from being achieved.  The error may be \n",
      "  underestimated.\n",
      "  warnings.warn(msg, IntegrationWarning)\n"
     ]
    },
    {
     "data": {
      "text/plain": [
       "(25.70050364904711, 5.186152365989462e-06)"
      ]
     },
     "execution_count": 23,
     "metadata": {},
     "output_type": "execute_result"
    }
   ],
   "source": [
    "# KW0\n",
    "integrate.quad(fW, ω_min, ω_max, args=(pdf1, 0, DK), limit=100)"
   ]
  },
  {
   "cell_type": "code",
   "execution_count": 24,
   "metadata": {},
   "outputs": [
    {
     "name": "stderr",
     "output_type": "stream",
     "text": [
      "/Users/zejinshi/anaconda3/lib/python3.6/site-packages/scipy/integrate/quadpack.py:385: IntegrationWarning: The occurrence of roundoff error is detected, which prevents \n",
      "  the requested tolerance from being achieved.  The error may be \n",
      "  underestimated.\n",
      "  warnings.warn(msg, IntegrationWarning)\n"
     ]
    },
    {
     "data": {
      "text/plain": [
       "(25.945961852406732, 9.327353834788382e-07)"
      ]
     },
     "execution_count": 24,
     "metadata": {},
     "output_type": "execute_result"
    }
   ],
   "source": [
    "# KW1\n",
    "integrate.quad(fW, ω_min, ω_max, args=(pdf1, 1, DK), limit=100)"
   ]
  },
  {
   "cell_type": "code",
   "execution_count": 25,
   "metadata": {},
   "outputs": [],
   "source": [
    "# inventor\n",
    "def fI(ω, pdf, idx_ζ, DA, D_bar):\n",
    "    \"\"\"\n",
    "    A = K, B\n",
    "    \"\"\"\n",
    "    p_invest = interp(ω_range, D_bar[0, :, idx_ζ], ω)\n",
    "    density = pdf(ω)\n",
    "    if p_invest < 0.5:\n",
    "        A = interp(ω_range, DA[0, 0, :, idx_ζ, 1], ω)\n",
    "        return density * A\n",
    "    else:\n",
    "        A = interp(ω_range, DA[0, 1, :, idx_ζ, 1], ω)\n",
    "        return density * A"
   ]
  },
  {
   "cell_type": "code",
   "execution_count": 26,
   "metadata": {},
   "outputs": [
    {
     "name": "stderr",
     "output_type": "stream",
     "text": [
      "/Users/zejinshi/anaconda3/lib/python3.6/site-packages/scipy/integrate/quadpack.py:385: IntegrationWarning: The occurrence of roundoff error is detected, which prevents \n",
      "  the requested tolerance from being achieved.  The error may be \n",
      "  underestimated.\n",
      "  warnings.warn(msg, IntegrationWarning)\n"
     ]
    },
    {
     "data": {
      "text/plain": [
       "25.75277545840293"
      ]
     },
     "execution_count": 26,
     "metadata": {},
     "output_type": "execute_result"
    }
   ],
   "source": [
    "# KI0\n",
    "integrate.quad(fW, ω_min, ω_max, args=(pdf2, 0, DK), limit=100)[0]"
   ]
  },
  {
   "cell_type": "code",
   "execution_count": 27,
   "metadata": {},
   "outputs": [
    {
     "name": "stderr",
     "output_type": "stream",
     "text": [
      "/Users/zejinshi/anaconda3/lib/python3.6/site-packages/scipy/integrate/quadpack.py:385: IntegrationWarning: The occurrence of roundoff error is detected, which prevents \n",
      "  the requested tolerance from being achieved.  The error may be \n",
      "  underestimated.\n",
      "  warnings.warn(msg, IntegrationWarning)\n"
     ]
    },
    {
     "data": {
      "text/plain": [
       "(25.99818978839738, 1.1683998019573329e-06)"
      ]
     },
     "execution_count": 27,
     "metadata": {},
     "output_type": "execute_result"
    }
   ],
   "source": [
    "# KI1\n",
    "integrate.quad(fW, ω_min, ω_max, args=(pdf2, 1, DK), limit=100)"
   ]
  },
  {
   "cell_type": "code",
   "execution_count": null,
   "metadata": {},
   "outputs": [],
   "source": []
  }
 ],
 "metadata": {
  "kernelspec": {
   "display_name": "Python 3",
   "language": "python",
   "name": "python3"
  },
  "language_info": {
   "codemirror_mode": {
    "name": "ipython",
    "version": 3
   },
   "file_extension": ".py",
   "mimetype": "text/x-python",
   "name": "python",
   "nbconvert_exporter": "python",
   "pygments_lexer": "ipython3",
   "version": "3.6.5"
  }
 },
 "nbformat": 4,
 "nbformat_minor": 2
}
